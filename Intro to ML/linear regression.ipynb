{
 "cells": [
  {
   "cell_type": "code",
   "execution_count": 2,
   "id": "7c168950-ed91-40c4-a692-fc84421c092a",
   "metadata": {},
   "outputs": [
    {
     "name": "stdout",
     "output_type": "stream",
     "text": [
      "First few rows of the dataset:\n",
      "   AGE  FEMALE  LOS  RACE  TOTCHG  APRDRG\n",
      "0   17       1    2   1.0    2660     560\n",
      "1   17       0    2   1.0    1689     753\n",
      "2   17       1    7   1.0   20060     930\n",
      "3   17       1    1   1.0     736     758\n",
      "4   17       1    1   1.0    1194     754\n",
      "\n",
      "Missing values in the dataset:\n",
      "AGE       0\n",
      "FEMALE    0\n",
      "LOS       0\n",
      "RACE      1\n",
      "TOTCHG    0\n",
      "APRDRG    0\n",
      "dtype: int64\n",
      "\n",
      "Basic statistics of the dataset:\n",
      "              AGE      FEMALE         LOS        RACE        TOTCHG  \\\n",
      "count  500.000000  500.000000  500.000000  499.000000    500.000000   \n",
      "mean     5.086000    0.512000    2.828000    1.078156   2774.388000   \n",
      "std      6.949474    0.500357    3.363487    0.514746   3888.407367   \n",
      "min      0.000000    0.000000    0.000000    1.000000    532.000000   \n",
      "25%      0.000000    0.000000    2.000000    1.000000   1216.250000   \n",
      "50%      0.000000    1.000000    2.000000    1.000000   1536.500000   \n",
      "75%     13.000000    1.000000    3.000000    1.000000   2530.250000   \n",
      "max     17.000000    1.000000   41.000000    6.000000  48388.000000   \n",
      "\n",
      "           APRDRG  \n",
      "count  500.000000  \n",
      "mean   616.360000  \n",
      "std    178.316044  \n",
      "min     21.000000  \n",
      "25%    640.000000  \n",
      "50%    640.000000  \n",
      "75%    751.000000  \n",
      "max    952.000000  \n",
      "\n",
      "Features (X) after standardization and adding intercept term:\n",
      "[[ 1.          1.71211137  0.97721297 -0.24643417 -0.15183465 -0.31549132]\n",
      " [ 1.          1.71211137 -1.02126765 -0.24643417 -0.15183465  0.76579062]\n",
      " [ 1.          1.71211137  0.97721297  1.2387186  -0.15183465  1.75743261]\n",
      " [ 1.          1.71211137  0.97721297 -0.54346472 -0.15183465  0.79380311]\n",
      " [ 1.          1.71211137  0.97721297 -0.54346472 -0.15183465  0.77139312]]\n"
     ]
    }
   ],
   "source": [
    "import numpy as np\n",
    "import pandas as pd\n",
    "\n",
    "\n",
    "\n",
    "\n",
    "\n",
    "file_path = \"/Users/aashvibudia/Documents/linear_regression_dataset.csv\"\n",
    "\n",
    "# Load the dataset\n",
    "data = pd.read_csv(file_path)\n",
    "\n",
    "# Inspect the first few rows of the dataset\n",
    "print(\"First few rows of the dataset:\")\n",
    "print(data.head())\n",
    "\n",
    "# Check for missing values\n",
    "print(\"\\nMissing values in the dataset:\")\n",
    "print(data.isnull().sum())\n",
    "\n",
    "# Describe the dataset for basic statistics\n",
    "print(\"\\nBasic statistics of the dataset:\")\n",
    "print(data.describe())\n",
    "\n",
    "# Drop rows with missing values inplace modifies the original dataframe\n",
    "data.dropna(inplace=True)\n",
    "\n",
    "# Select features (X) and target (y)\n",
    "\n",
    "X = data[['AGE', 'FEMALE', 'LOS', 'RACE', 'APRDRG']]\n",
    "y = data['TOTCHG']\n",
    "\n",
    "# Normalize the features by scaling them to a range [0,1]\n",
    "X = (X - X.mean()) / X.std()  # Feature standardization (z-score normalization)\n",
    "\n",
    "# Add a column of 1s to X for the intercept term\n",
    "X = np.c_[np.ones(X.shape[0]), X]  # Add bias column (1s) to the feature matrix\n",
    "\n",
    "print(\"\\nFeatures (X) after standardization and adding intercept term:\")\n",
    "print(X[:5])\n"
   ]
  },
  {
   "cell_type": "code",
   "execution_count": 1,
   "id": "29793f08-5e30-4d56-a27b-a64274e9eb60",
   "metadata": {},
   "outputs": [],
   "source": [
    "def linear_regression(X, y, lr=0.01, epochs=1000):\n",
    "    m = len(X)  # Number of training examples\n",
    "    n = X.shape[1]  # Number of features (including bias)\n",
    "\n",
    "    # Initialize weights (w) and bias (b) with zeros\n",
    "    w = np.zeros(n)\n",
    "    b = 0\n",
    "\n",
    "    cost_history = []  # To track cost function value\n",
    "\n",
    "    # Gradient Descent loop\n",
    "    for i in range(epochs):\n",
    "        # Prediction using current weights and bias\n",
    "        y_hat = np.dot(X, w) + b\n",
    "\n",
    "        # Calculate the error (difference between predictions and actual values)\n",
    "        error = y_hat - y\n",
    "\n",
    "        # Compute gradients\n",
    "        w_gradient = (1/m) * np.dot(X.T, error)  # Gradient of weights\n",
    "        b_gradient = (1/m) * np.sum(error)  # Gradient of bias\n",
    "\n",
    "        # Update weights and bias\n",
    "        w -= lr * w_gradient\n",
    "        b -= lr * b_gradient\n",
    "\n",
    "        # Compute the cost (Mean Squared Error)\n",
    "        cost = (1/(2*m)) * np.sum(error ** 2)\n",
    "        cost_history.append(cost)\n",
    "\n",
    "        # Print cost every 100 epochs\n",
    "        if i % 100 == 0:\n",
    "            print(f\"Epoch {i}, Cost: {cost}\")\n",
    "\n",
    "    return w, b, cost_history\n"
   ]
  },
  {
   "cell_type": "code",
   "execution_count": 4,
   "id": "523af1f3-5742-4ba0-8ff3-c5313e9bddc6",
   "metadata": {},
   "outputs": [
    {
     "name": "stdout",
     "output_type": "stream",
     "text": [
      "Epoch 0, Cost: 11414843.951903807\n",
      "Epoch 100, Cost: 4103009.1882773186\n",
      "Epoch 200, Cost: 3485196.39675653\n",
      "Epoch 300, Cost: 3392880.1348198857\n",
      "Epoch 400, Cost: 3377145.7641859176\n",
      "Epoch 500, Cost: 3374344.8252037154\n",
      "Epoch 600, Cost: 3373831.977635403\n",
      "Epoch 700, Cost: 3373735.9251098884\n",
      "Epoch 800, Cost: 3373717.5849332954\n",
      "Epoch 900, Cost: 3373714.0225905925\n",
      "Final weights: [ 1388.81562893   935.98660407  -195.24610877  2501.66051333\n",
      "  -109.25790108 -1390.41048542]\n",
      "Final bias: 1388.8156289251942\n",
      "R-squared: 0.5536\n"
     ]
    }
   ],
   "source": [
    "# Set hyperparameters\n",
    "learning_rate = 0.01\n",
    "epochs = 1000\n",
    "\n",
    "# Train the model\n",
    "# Removed .values from X and y since they are already numpy arrays\n",
    "w, b, cost_history = linear_regression(X, y.values, lr=learning_rate, epochs=epochs)\n",
    "\n",
    "# Print final weights and bias\n",
    "print(\"Final weights:\", w)\n",
    "print(\"Final bias:\", b)\n",
    "\n",
    "def r_squared(y, y_hat):\n",
    "    ss_total = np.sum((y - np.mean(y))**2)\n",
    "    ss_residual = np.sum((y - y_hat)**2)\n",
    "    return 1 - (ss_residual / ss_total)\n",
    "\n",
    "# Predict on the training set\n",
    "y_pred = np.dot(X, w) + b\n",
    "\n",
    "# Calculate R-squared\n",
    "r2 = r_squared(y.values, y_pred)\n",
    "print(f\"R-squared: {r2:.4f}\")"
   ]
  },
  {
   "cell_type": "code",
   "execution_count": 5,
   "id": "d765269b-792c-4ead-926b-4f495143f2c4",
   "metadata": {},
   "outputs": [
    {
     "data": {
      "image/png": "[encoded data removed]",
      "text/plain": [
       "<Figure size 640x480 with 1 Axes>"
      ]
     },
     "metadata": {},
     "output_type": "display_data"
    }
   ],
   "source": [
    "import matplotlib.pyplot as plt\n",
    "\n",
    "# Plot the cost function over iterations\n",
    "plt.plot(range(epochs), cost_history)\n",
    "plt.xlabel(\"Epochs\")\n",
    "plt.ylabel(\"Cost (MSE)\")\n",
    "plt.title(\"Cost Function during Training\")\n",
    "plt.show()\n"
   ]
  },
  {
   "cell_type": "code",
   "execution_count": null,
   "id": "0ed35ded-0f5b-4af2-9bce-a2346a38f87d",
   "metadata": {},
   "outputs": [],
   "source": []
  }
 ],
 "metadata": {
  "kernelspec": {
   "display_name": "Python 3 (ipykernel)",
   "language": "python",
   "name": "python3"
  },
  "language_info": {
   "codemirror_mode": {
    "name": "ipython",
    "version": 3
   },
   "file_extension": ".py",
   "mimetype": "text/x-python",
   "name": "python",
   "nbconvert_exporter": "python",
   "pygments_lexer": "ipython3",
   "version": "3.12.6"
  }
 },
 "nbformat": 4,
 "nbformat_minor": 5
}
